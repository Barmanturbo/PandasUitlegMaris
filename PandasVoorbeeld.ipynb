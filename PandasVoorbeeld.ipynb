{
 "cells": [
  {
   "cell_type": "markdown",
   "metadata": {},
   "source": [
    "<h1>Voorbeeld data import met Pandas</h1>\n",
    "<h4>Door B. Braam</h4>"
   ]
  },
  {
   "cell_type": "markdown",
   "metadata": {},
   "source": [
    "<h2>Imports</h2>\n",
    "<p>We gaan hiermee de databases in archive gebruiken en we gaan daarvan de gegevens transformeren.\n",
    "Ik begin met de juiste imports.</p>"
   ]
  },
  {
   "cell_type": "code",
   "execution_count": 1,
   "metadata": {},
   "outputs": [],
   "source": [
    "import pandas as pd"
   ]
  },
  {
   "cell_type": "markdown",
   "metadata": {},
   "source": [
    "Nu gaan we met behulp van pandas een dataframe aanmaken en daar de csv appearances.csv inladen.<br/>\n",
    "Vervolgens controleren we de bovenste 5 rijen in de csv (de table head.)\n",
    "<br/>\n",
    "<br/>Dit doen we zodat we geen rijen in onze database zelf aanpassen, maar alleen ons gemaakte dataframe."
   ]
  },
  {
   "cell_type": "code",
   "execution_count": 2,
   "metadata": {},
   "outputs": [
    {
     "name": "stdout",
     "output_type": "stream",
     "text": [
      "    appearance_id  game_id  player_id  player_club_id  player_current_club_id  \\\n",
      "0  2460589_237947  2460589     237947           11411                   16247   \n",
      "1  2460503_150846  2460503     150846            4807                    2503   \n",
      "2  2460507_136142  2460507     136142             271                     862   \n",
      "3  2460508_153735  2460508     153735           18506                    4128   \n",
      "4   2460509_27017  2460509      27017           10482                    3719   \n",
      "\n",
      "         date       player_name competition_id  yellow_cards  red_cards  \\\n",
      "0  2014-07-01  Rumyan Hovsepyan            CLQ             0          0   \n",
      "1  2014-07-03           Yoro Ly            ELQ             0          0   \n",
      "2  2014-07-03   Armando Vajushi            ELQ             0          0   \n",
      "3  2014-07-03  Marko Simonovski            ELQ             0          0   \n",
      "4  2014-07-03   Dmitriy Khomich            ELQ             0          0   \n",
      "\n",
      "   goals  assists  minutes_played  \n",
      "0      0        0              90  \n",
      "1      0        0              67  \n",
      "2      0        0              80  \n",
      "3      1        0              90  \n",
      "4      0        0              90  \n"
     ]
    }
   ],
   "source": [
    "df = pd.read_csv('archive/appearances.csv')\n",
    "print(df.head())"
   ]
  },
  {
   "cell_type": "markdown",
   "metadata": {},
   "source": [
    "Vervolgens gaan we de dataframe verkleinen zodat we kunnen kijken hoeveel rode kaarten elke speler heeft. Wat we hiervoor nodig hebben is player_id en red_cards."
   ]
  },
  {
   "cell_type": "code",
   "execution_count": 3,
   "metadata": {},
   "outputs": [
    {
     "name": "stdout",
     "output_type": "stream",
     "text": [
      "   player_id  red_cards\n",
      "0     237947          0\n",
      "1     150846          0\n",
      "2     136142          0\n",
      "3     153735          0\n",
      "4      27017          0\n"
     ]
    }
   ],
   "source": [
    "dfRedCards = df.loc[:,['player_id','red_cards']]\n",
    "print(dfRedCards.head())"
   ]
  },
  {
   "cell_type": "markdown",
   "metadata": {},
   "source": [
    "Nu gaan we doen wat in SQL werkt als \" Group By\". Wat dit betekent is dat we alle rode kaarten in alle potjes per speler bij elkaar optellen. Dus bijvoorbeeld, als Lionel Messi in 2 toernooien 2 rode kaarten heeft, worden die bij elkaar opgeteld. Momenteel staat het nog per wedstrijd zelf.\n",
    "<br/><br/>\n",
    "group by player_id, en vat red_cards samen als de som van alle red_cards die die speler heeft gehaald.\n",
    "<br/>met reset_index() wijzen we opnieuw rij-labels toe (1,2,3,...) zodat de dataframe leesbaar is mocht je die tussendoor willen uitlezen."
   ]
  },
  {
   "cell_type": "code",
   "execution_count": 4,
   "metadata": {},
   "outputs": [
    {
     "name": "stdout",
     "output_type": "stream",
     "text": [
      "   player_id  red_cards\n",
      "0         10          0\n",
      "1         26          0\n",
      "2         65          1\n",
      "3         80          0\n",
      "4        132          0\n"
     ]
    }
   ],
   "source": [
    "dfRedCards = dfRedCards.groupby('player_id')['red_cards'].sum().reset_index()\n",
    "print(dfRedCards.head())"
   ]
  },
  {
   "cell_type": "markdown",
   "metadata": {},
   "source": [
    "Nu gaan we dit sorteren op meeste rode kaarten naar laagste.<br/>\n",
    "In jupyter notebooks kan je gewoon een variabelenaam in zijn eentje op een regel zetten en print de IDE de value van die variabele."
   ]
  },
  {
   "cell_type": "code",
   "execution_count": 5,
   "metadata": {},
   "outputs": [
    {
     "data": {
      "text/html": [
       "<div>\n",
       "<style scoped>\n",
       "    .dataframe tbody tr th:only-of-type {\n",
       "        vertical-align: middle;\n",
       "    }\n",
       "\n",
       "    .dataframe tbody tr th {\n",
       "        vertical-align: top;\n",
       "    }\n",
       "\n",
       "    .dataframe thead th {\n",
       "        text-align: right;\n",
       "    }\n",
       "</style>\n",
       "<table border=\"1\" class=\"dataframe\">\n",
       "  <thead>\n",
       "    <tr style=\"text-align: right;\">\n",
       "      <th></th>\n",
       "      <th>player_id</th>\n",
       "      <th>red_cards</th>\n",
       "    </tr>\n",
       "  </thead>\n",
       "  <tbody>\n",
       "    <tr>\n",
       "      <th>0</th>\n",
       "      <td>10</td>\n",
       "      <td>0</td>\n",
       "    </tr>\n",
       "    <tr>\n",
       "      <th>1</th>\n",
       "      <td>26</td>\n",
       "      <td>0</td>\n",
       "    </tr>\n",
       "    <tr>\n",
       "      <th>2</th>\n",
       "      <td>65</td>\n",
       "      <td>1</td>\n",
       "    </tr>\n",
       "    <tr>\n",
       "      <th>3</th>\n",
       "      <td>80</td>\n",
       "      <td>0</td>\n",
       "    </tr>\n",
       "    <tr>\n",
       "      <th>4</th>\n",
       "      <td>132</td>\n",
       "      <td>0</td>\n",
       "    </tr>\n",
       "    <tr>\n",
       "      <th>...</th>\n",
       "      <td>...</td>\n",
       "      <td>...</td>\n",
       "    </tr>\n",
       "    <tr>\n",
       "      <th>20103</th>\n",
       "      <td>1141487</td>\n",
       "      <td>0</td>\n",
       "    </tr>\n",
       "    <tr>\n",
       "      <th>20104</th>\n",
       "      <td>1143805</td>\n",
       "      <td>0</td>\n",
       "    </tr>\n",
       "    <tr>\n",
       "      <th>20105</th>\n",
       "      <td>1143809</td>\n",
       "      <td>0</td>\n",
       "    </tr>\n",
       "    <tr>\n",
       "      <th>20106</th>\n",
       "      <td>1143811</td>\n",
       "      <td>0</td>\n",
       "    </tr>\n",
       "    <tr>\n",
       "      <th>20107</th>\n",
       "      <td>1143823</td>\n",
       "      <td>0</td>\n",
       "    </tr>\n",
       "  </tbody>\n",
       "</table>\n",
       "<p>20108 rows × 2 columns</p>\n",
       "</div>"
      ],
      "text/plain": [
       "       player_id  red_cards\n",
       "0             10          0\n",
       "1             26          0\n",
       "2             65          1\n",
       "3             80          0\n",
       "4            132          0\n",
       "...          ...        ...\n",
       "20103    1141487          0\n",
       "20104    1143805          0\n",
       "20105    1143809          0\n",
       "20106    1143811          0\n",
       "20107    1143823          0\n",
       "\n",
       "[20108 rows x 2 columns]"
      ]
     },
     "execution_count": 5,
     "metadata": {},
     "output_type": "execute_result"
    }
   ],
   "source": [
    "dfRedCards.sort_values(by=['red_cards'], ascending=False)\n",
    "dfRedCards "
   ]
  },
  {
   "cell_type": "markdown",
   "metadata": {},
   "source": [
    "Vervolgens behouden we alleen nog maar de rijen waar het aantal red_cards groter is dan 1 (en verwijderen we de rest uit de dataframe.)\n",
    "Hiervoor wil ik eerst controleren wat het datatype is van red_cards zodat ik geen bewerkingen op int uit probeer te voeren als het een string is."
   ]
  },
  {
   "cell_type": "code",
   "execution_count": 6,
   "metadata": {},
   "outputs": [
    {
     "data": {
      "text/plain": [
       "player_id    int64\n",
       "red_cards    int64\n",
       "dtype: object"
      ]
     },
     "execution_count": 6,
     "metadata": {},
     "output_type": "execute_result"
    }
   ],
   "source": [
    "dfRedCards.dtypes"
   ]
  },
  {
   "cell_type": "markdown",
   "metadata": {},
   "source": [
    "Mooi! red_cards is een int."
   ]
  },
  {
   "cell_type": "code",
   "execution_count": 7,
   "metadata": {},
   "outputs": [
    {
     "data": {
      "text/html": [
       "<div>\n",
       "<style scoped>\n",
       "    .dataframe tbody tr th:only-of-type {\n",
       "        vertical-align: middle;\n",
       "    }\n",
       "\n",
       "    .dataframe tbody tr th {\n",
       "        vertical-align: top;\n",
       "    }\n",
       "\n",
       "    .dataframe thead th {\n",
       "        text-align: right;\n",
       "    }\n",
       "</style>\n",
       "<table border=\"1\" class=\"dataframe\">\n",
       "  <thead>\n",
       "    <tr style=\"text-align: right;\">\n",
       "      <th></th>\n",
       "      <th>player_id</th>\n",
       "      <th>red_cards</th>\n",
       "    </tr>\n",
       "  </thead>\n",
       "  <tbody>\n",
       "    <tr>\n",
       "      <th>50</th>\n",
       "      <td>2904</td>\n",
       "      <td>2</td>\n",
       "    </tr>\n",
       "    <tr>\n",
       "      <th>58</th>\n",
       "      <td>3160</td>\n",
       "      <td>2</td>\n",
       "    </tr>\n",
       "    <tr>\n",
       "      <th>83</th>\n",
       "      <td>3455</td>\n",
       "      <td>2</td>\n",
       "    </tr>\n",
       "    <tr>\n",
       "      <th>133</th>\n",
       "      <td>4188</td>\n",
       "      <td>2</td>\n",
       "    </tr>\n",
       "    <tr>\n",
       "      <th>157</th>\n",
       "      <td>4391</td>\n",
       "      <td>2</td>\n",
       "    </tr>\n",
       "    <tr>\n",
       "      <th>...</th>\n",
       "      <td>...</td>\n",
       "      <td>...</td>\n",
       "    </tr>\n",
       "    <tr>\n",
       "      <th>18688</th>\n",
       "      <td>659542</td>\n",
       "      <td>2</td>\n",
       "    </tr>\n",
       "    <tr>\n",
       "      <th>18887</th>\n",
       "      <td>683895</td>\n",
       "      <td>4</td>\n",
       "    </tr>\n",
       "    <tr>\n",
       "      <th>18939</th>\n",
       "      <td>688707</td>\n",
       "      <td>2</td>\n",
       "    </tr>\n",
       "    <tr>\n",
       "      <th>18940</th>\n",
       "      <td>688714</td>\n",
       "      <td>2</td>\n",
       "    </tr>\n",
       "    <tr>\n",
       "      <th>19513</th>\n",
       "      <td>798404</td>\n",
       "      <td>2</td>\n",
       "    </tr>\n",
       "  </tbody>\n",
       "</table>\n",
       "<p>765 rows × 2 columns</p>\n",
       "</div>"
      ],
      "text/plain": [
       "       player_id  red_cards\n",
       "50          2904          2\n",
       "58          3160          2\n",
       "83          3455          2\n",
       "133         4188          2\n",
       "157         4391          2\n",
       "...          ...        ...\n",
       "18688     659542          2\n",
       "18887     683895          4\n",
       "18939     688707          2\n",
       "18940     688714          2\n",
       "19513     798404          2\n",
       "\n",
       "[765 rows x 2 columns]"
      ]
     },
     "execution_count": 7,
     "metadata": {},
     "output_type": "execute_result"
    }
   ],
   "source": [
    "dfRedCards = dfRedCards[dfRedCards['red_cards']>1]\n",
    "dfRedCards"
   ]
  },
  {
   "cell_type": "markdown",
   "metadata": {},
   "source": [
    "Hier kan je dan mooi zien wat er gebeurt als je niet de index reset. Dan klopt de index niet meer met de output van het aantal rows. Gelukkig maakt dat niks uit voor het runnen van de code."
   ]
  },
  {
   "cell_type": "markdown",
   "metadata": {},
   "source": [
    "<h2>Tabel combineren met andere tabel</h2>\n",
    "<p>Nu gaan we wat doen dat lijkt op JOIN ON in SQL. We gaan de tabel met player_id en hun naam importeren, en aan deze tabel plakken. Vervolgens verwijderen we de kolom player_id in ons dataframe.</p>"
   ]
  },
  {
   "cell_type": "code",
   "execution_count": 8,
   "metadata": {},
   "outputs": [],
   "source": [
    "dfSpeler = pd.read_csv('archive/players.csv')\n",
    "dfGecombineerd = pd.merge(dfSpeler,dfRedCards, on=\"player_id\")\n"
   ]
  },
  {
   "cell_type": "markdown",
   "metadata": {},
   "source": [
    "Laten we kijken welke kolomnamen er nu allemaal zijn."
   ]
  },
  {
   "cell_type": "code",
   "execution_count": 9,
   "metadata": {},
   "outputs": [
    {
     "name": "stdout",
     "output_type": "stream",
     "text": [
      "   player_id first_name  last_name                name  last_season  \\\n",
      "0       6150   Fabricio  Coloccini  Fabricio Coloccini         2015   \n",
      "1      33357        NaN    Miranda             Miranda         2018   \n",
      "2      39907       Pape       Diop           Pape Diop         2020   \n",
      "3      45314   Federico      Fazio      Federico Fazio         2022   \n",
      "4      45320      Ángel   Di María      Ángel Di María         2022   \n",
      "\n",
      "   current_club_id         player_code country_of_birth city_of_birth  \\\n",
      "0              762  fabricio-coloccini        Argentina       Córdoba   \n",
      "1               46             miranda           Brazil     Paranavaí   \n",
      "2             1533           pape-diop          Senegal       Kaolack   \n",
      "3              380      federico-fazio        Argentina  Buenos Aires   \n",
      "4              506      angel-di-maria        Argentina       Rosario   \n",
      "\n",
      "  country_of_citizenship  ... height_in_cm market_value_in_eur  \\\n",
      "0              Argentina  ...        184.0                 NaN   \n",
      "1                 Brazil  ...        186.0                 NaN   \n",
      "2                Senegal  ...        180.0            200000.0   \n",
      "3              Argentina  ...        195.0            400000.0   \n",
      "4              Argentina  ...        180.0           8000000.0   \n",
      "\n",
      "  highest_market_value_in_eur contract_expiration_date        agent_name  \\\n",
      "0                  10000000.0                      NaN  Marcelo Lombilla   \n",
      "1                  22000000.0                      NaN         Gestifute   \n",
      "2                   5000000.0      2023-06-30 00:00:00         AC Talent   \n",
      "3                  13000000.0      2024-06-30 00:00:00       Team Raiola   \n",
      "4                  65000000.0      2024-06-30 00:00:00        DCGLOBALSL   \n",
      "\n",
      "                                           image_url  \\\n",
      "0  https://img.a.transfermarkt.technology/portrai...   \n",
      "1  https://img.a.transfermarkt.technology/portrai...   \n",
      "2  https://img.a.transfermarkt.technology/portrai...   \n",
      "3  https://img.a.transfermarkt.technology/portrai...   \n",
      "4  https://img.a.transfermarkt.technology/portrai...   \n",
      "\n",
      "                                                 url  \\\n",
      "0  https://www.transfermarkt.co.uk/fabricio-coloc...   \n",
      "1  https://www.transfermarkt.co.uk/miranda/profil...   \n",
      "2  https://www.transfermarkt.co.uk/pape-diop/prof...   \n",
      "3  https://www.transfermarkt.co.uk/federico-fazio...   \n",
      "4  https://www.transfermarkt.co.uk/angel-di-maria...   \n",
      "\n",
      "  current_club_domestic_competition_id    current_club_name red_cards  \n",
      "0                                  GB1     Newcastle United         2  \n",
      "1                                  IT1          Inter Milan         3  \n",
      "2                                  ES1             SD Eibar         2  \n",
      "3                                  IT1  US Salernitana 1919         4  \n",
      "4                                  IT1          Juventus FC         3  \n",
      "\n",
      "[5 rows x 24 columns]\n"
     ]
    }
   ],
   "source": [
    "\n",
    "print(dfGecombineerd.head())"
   ]
  },
  {
   "cell_type": "markdown",
   "metadata": {},
   "source": [
    "Laten we alleen mensen die 'country_of_citizenship'='Argentina' gebruiken voor de rest van de data bewerking."
   ]
  },
  {
   "cell_type": "code",
   "execution_count": 10,
   "metadata": {},
   "outputs": [
    {
     "name": "stdout",
     "output_type": "stream",
     "text": [
      "    player_id first_name   last_name                name  last_season  \\\n",
      "0        6150   Fabricio   Coloccini  Fabricio Coloccini         2015   \n",
      "3       45314   Federico       Fazio      Federico Fazio         2022   \n",
      "4       45320      Ángel    Di María      Ángel Di María         2022   \n",
      "53      54781    Nicolás    Otamendi    Nicolás Otamendi         2022   \n",
      "95      19981     Javier  Mascherano   Javier Mascherano         2017   \n",
      "\n",
      "    current_club_id         player_code country_of_birth city_of_birth  \\\n",
      "0               762  fabricio-coloccini        Argentina       Córdoba   \n",
      "3               380      federico-fazio        Argentina  Buenos Aires   \n",
      "4               506      angel-di-maria        Argentina       Rosario   \n",
      "53              294    nicolas-otamendi        Argentina  Buenos Aires   \n",
      "95              131   javier-mascherano        Argentina   San Lorenzo   \n",
      "\n",
      "   country_of_citizenship  ... height_in_cm market_value_in_eur  \\\n",
      "0               Argentina  ...        184.0                 NaN   \n",
      "3               Argentina  ...        195.0            400000.0   \n",
      "4               Argentina  ...        180.0           8000000.0   \n",
      "53              Argentina  ...        183.0           2000000.0   \n",
      "95              Argentina  ...        174.0                 NaN   \n",
      "\n",
      "   highest_market_value_in_eur contract_expiration_date        agent_name  \\\n",
      "0                   10000000.0                      NaN  Marcelo Lombilla   \n",
      "3                   13000000.0      2024-06-30 00:00:00       Team Raiola   \n",
      "4                   65000000.0      2024-06-30 00:00:00        DCGLOBALSL   \n",
      "53                  35000000.0      2025-06-30 00:00:00         Gestifute   \n",
      "95                  30000000.0                      NaN               NaN   \n",
      "\n",
      "                                            image_url  \\\n",
      "0   https://img.a.transfermarkt.technology/portrai...   \n",
      "3   https://img.a.transfermarkt.technology/portrai...   \n",
      "4   https://img.a.transfermarkt.technology/portrai...   \n",
      "53  https://img.a.transfermarkt.technology/portrai...   \n",
      "95  https://img.a.transfermarkt.technology/portrai...   \n",
      "\n",
      "                                                  url  \\\n",
      "0   https://www.transfermarkt.co.uk/fabricio-coloc...   \n",
      "3   https://www.transfermarkt.co.uk/federico-fazio...   \n",
      "4   https://www.transfermarkt.co.uk/angel-di-maria...   \n",
      "53  https://www.transfermarkt.co.uk/nicolas-otamen...   \n",
      "95  https://www.transfermarkt.co.uk/javier-mascher...   \n",
      "\n",
      "   current_club_domestic_competition_id    current_club_name red_cards  \n",
      "0                                   GB1     Newcastle United         2  \n",
      "3                                   IT1  US Salernitana 1919         4  \n",
      "4                                   IT1          Juventus FC         3  \n",
      "53                                  PO1           SL Benfica         2  \n",
      "95                                  ES1         FC Barcelona         3  \n",
      "\n",
      "[5 rows x 24 columns]\n"
     ]
    }
   ],
   "source": [
    "dfGecombineerd = dfGecombineerd[dfGecombineerd['country_of_citizenship'] == 'Argentina']\n",
    "print(dfGecombineerd.head())\n"
   ]
  },
  {
   "cell_type": "markdown",
   "metadata": {},
   "source": [
    "vervolgens verwijder ik alle kolommen die niet 'name' en 'red_cards' heten."
   ]
  },
  {
   "cell_type": "code",
   "execution_count": 11,
   "metadata": {},
   "outputs": [
    {
     "data": {
      "text/html": [
       "<div>\n",
       "<style scoped>\n",
       "    .dataframe tbody tr th:only-of-type {\n",
       "        vertical-align: middle;\n",
       "    }\n",
       "\n",
       "    .dataframe tbody tr th {\n",
       "        vertical-align: top;\n",
       "    }\n",
       "\n",
       "    .dataframe thead th {\n",
       "        text-align: right;\n",
       "    }\n",
       "</style>\n",
       "<table border=\"1\" class=\"dataframe\">\n",
       "  <thead>\n",
       "    <tr style=\"text-align: right;\">\n",
       "      <th></th>\n",
       "      <th>name</th>\n",
       "      <th>red_cards</th>\n",
       "    </tr>\n",
       "  </thead>\n",
       "  <tbody>\n",
       "    <tr>\n",
       "      <th>0</th>\n",
       "      <td>Fabricio Coloccini</td>\n",
       "      <td>2</td>\n",
       "    </tr>\n",
       "    <tr>\n",
       "      <th>3</th>\n",
       "      <td>Federico Fazio</td>\n",
       "      <td>4</td>\n",
       "    </tr>\n",
       "    <tr>\n",
       "      <th>4</th>\n",
       "      <td>Ángel Di María</td>\n",
       "      <td>3</td>\n",
       "    </tr>\n",
       "    <tr>\n",
       "      <th>53</th>\n",
       "      <td>Nicolás Otamendi</td>\n",
       "      <td>2</td>\n",
       "    </tr>\n",
       "    <tr>\n",
       "      <th>95</th>\n",
       "      <td>Javier Mascherano</td>\n",
       "      <td>3</td>\n",
       "    </tr>\n",
       "    <tr>\n",
       "      <th>207</th>\n",
       "      <td>Luis Fariña</td>\n",
       "      <td>2</td>\n",
       "    </tr>\n",
       "    <tr>\n",
       "      <th>224</th>\n",
       "      <td>Gonzalo Escalante</td>\n",
       "      <td>3</td>\n",
       "    </tr>\n",
       "    <tr>\n",
       "      <th>247</th>\n",
       "      <td>Facundo Roncaglia</td>\n",
       "      <td>3</td>\n",
       "    </tr>\n",
       "    <tr>\n",
       "      <th>292</th>\n",
       "      <td>Diego Perotti</td>\n",
       "      <td>3</td>\n",
       "    </tr>\n",
       "    <tr>\n",
       "      <th>304</th>\n",
       "      <td>Germán Pezzella</td>\n",
       "      <td>4</td>\n",
       "    </tr>\n",
       "    <tr>\n",
       "      <th>327</th>\n",
       "      <td>Emanuel Insúa</td>\n",
       "      <td>2</td>\n",
       "    </tr>\n",
       "    <tr>\n",
       "      <th>339</th>\n",
       "      <td>Mauro Zárate</td>\n",
       "      <td>2</td>\n",
       "    </tr>\n",
       "    <tr>\n",
       "      <th>407</th>\n",
       "      <td>Nicolás Tagliafico</td>\n",
       "      <td>2</td>\n",
       "    </tr>\n",
       "    <tr>\n",
       "      <th>416</th>\n",
       "      <td>Ángel Correa</td>\n",
       "      <td>3</td>\n",
       "    </tr>\n",
       "    <tr>\n",
       "      <th>419</th>\n",
       "      <td>Ezequiel Ponce</td>\n",
       "      <td>3</td>\n",
       "    </tr>\n",
       "    <tr>\n",
       "      <th>436</th>\n",
       "      <td>Renato Civelli</td>\n",
       "      <td>2</td>\n",
       "    </tr>\n",
       "    <tr>\n",
       "      <th>573</th>\n",
       "      <td>Gonzalo Rodríguez</td>\n",
       "      <td>2</td>\n",
       "    </tr>\n",
       "    <tr>\n",
       "      <th>587</th>\n",
       "      <td>Éver Banega</td>\n",
       "      <td>3</td>\n",
       "    </tr>\n",
       "    <tr>\n",
       "      <th>589</th>\n",
       "      <td>Franco Vázquez</td>\n",
       "      <td>2</td>\n",
       "    </tr>\n",
       "    <tr>\n",
       "      <th>617</th>\n",
       "      <td>David Abraham</td>\n",
       "      <td>3</td>\n",
       "    </tr>\n",
       "    <tr>\n",
       "      <th>642</th>\n",
       "      <td>Joaquín Correa</td>\n",
       "      <td>2</td>\n",
       "    </tr>\n",
       "    <tr>\n",
       "      <th>645</th>\n",
       "      <td>Emiliano Buendía</td>\n",
       "      <td>2</td>\n",
       "    </tr>\n",
       "    <tr>\n",
       "      <th>679</th>\n",
       "      <td>Lucas Orbán</td>\n",
       "      <td>2</td>\n",
       "    </tr>\n",
       "    <tr>\n",
       "      <th>684</th>\n",
       "      <td>Rodrigo de Paul</td>\n",
       "      <td>4</td>\n",
       "    </tr>\n",
       "    <tr>\n",
       "      <th>764</th>\n",
       "      <td>Nehuén Pérez</td>\n",
       "      <td>2</td>\n",
       "    </tr>\n",
       "  </tbody>\n",
       "</table>\n",
       "</div>"
      ],
      "text/plain": [
       "                   name  red_cards\n",
       "0    Fabricio Coloccini          2\n",
       "3        Federico Fazio          4\n",
       "4        Ángel Di María          3\n",
       "53     Nicolás Otamendi          2\n",
       "95    Javier Mascherano          3\n",
       "207         Luis Fariña          2\n",
       "224   Gonzalo Escalante          3\n",
       "247   Facundo Roncaglia          3\n",
       "292       Diego Perotti          3\n",
       "304     Germán Pezzella          4\n",
       "327       Emanuel Insúa          2\n",
       "339        Mauro Zárate          2\n",
       "407  Nicolás Tagliafico          2\n",
       "416        Ángel Correa          3\n",
       "419      Ezequiel Ponce          3\n",
       "436      Renato Civelli          2\n",
       "573   Gonzalo Rodríguez          2\n",
       "587         Éver Banega          3\n",
       "589      Franco Vázquez          2\n",
       "617       David Abraham          3\n",
       "642      Joaquín Correa          2\n",
       "645    Emiliano Buendía          2\n",
       "679         Lucas Orbán          2\n",
       "684     Rodrigo de Paul          4\n",
       "764        Nehuén Pérez          2"
      ]
     },
     "execution_count": 11,
     "metadata": {},
     "output_type": "execute_result"
    }
   ],
   "source": [
    "dfGecombineerd.dtypes\n",
    "dfGecombineerd = dfGecombineerd[['name','red_cards']]\n",
    "dfGecombineerd"
   ]
  },
  {
   "cell_type": "markdown",
   "metadata": {},
   "source": [
    "<h2>Exporteren naar een .csv</h2>"
   ]
  },
  {
   "cell_type": "code",
   "execution_count": null,
   "metadata": {},
   "outputs": [],
   "source": [
    "dfGecombineerd.to_csv('voorbeeldOutput.csv', encoding='utf-8', index=False)"
   ]
  }
 ],
 "metadata": {
  "kernelspec": {
   "display_name": "Python 3",
   "language": "python",
   "name": "python3"
  },
  "language_info": {
   "codemirror_mode": {
    "name": "ipython",
    "version": 3
   },
   "file_extension": ".py",
   "mimetype": "text/x-python",
   "name": "python",
   "nbconvert_exporter": "python",
   "pygments_lexer": "ipython3",
   "version": "3.11.4"
  },
  "orig_nbformat": 4
 },
 "nbformat": 4,
 "nbformat_minor": 2
}
