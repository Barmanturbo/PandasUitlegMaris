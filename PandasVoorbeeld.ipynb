{
 "cells": [
  {
   "cell_type": "markdown",
   "metadata": {},
   "source": [
    "<h1>Voorbeeld data import met Pandas</h1>\n",
    "<h4>Door B. Braam</h4>"
   ]
  },
  {
   "cell_type": "markdown",
   "metadata": {},
   "source": [
    "We gaan hiermee de databases in archive gebruiken en we gaan daarvan de gegevens transformeren.\n",
    "Ik begin met de juiste imports."
   ]
  },
  {
   "cell_type": "code",
   "execution_count": 1,
   "metadata": {},
   "outputs": [],
   "source": [
    "import pandas as pd"
   ]
  },
  {
   "cell_type": "markdown",
   "metadata": {},
   "source": [
    "Nu gaan we met behulp van pandas een dataframe aanmaken en daar de csv appearances.csv inladen.<br/>\n",
    "Vervolgens controleren we de bovenste 5 rijen in de csv (de table head.)"
   ]
  },
  {
   "cell_type": "code",
   "execution_count": 2,
   "metadata": {},
   "outputs": [
    {
     "name": "stdout",
     "output_type": "stream",
     "text": [
      "    appearance_id  game_id  player_id  player_club_id  player_current_club_id  \\\n",
      "0  2460589_237947  2460589     237947           11411                   16247   \n",
      "1  2460503_150846  2460503     150846            4807                    2503   \n",
      "2  2460507_136142  2460507     136142             271                     862   \n",
      "3  2460508_153735  2460508     153735           18506                    4128   \n",
      "4   2460509_27017  2460509      27017           10482                    3719   \n",
      "\n",
      "         date       player_name competition_id  yellow_cards  red_cards  \\\n",
      "0  2014-07-01  Rumyan Hovsepyan            CLQ             0          0   \n",
      "1  2014-07-03           Yoro Ly            ELQ             0          0   \n",
      "2  2014-07-03   Armando Vajushi            ELQ             0          0   \n",
      "3  2014-07-03  Marko Simonovski            ELQ             0          0   \n",
      "4  2014-07-03   Dmitriy Khomich            ELQ             0          0   \n",
      "\n",
      "   goals  assists  minutes_played  \n",
      "0      0        0              90  \n",
      "1      0        0              67  \n",
      "2      0        0              80  \n",
      "3      1        0              90  \n",
      "4      0        0              90  \n"
     ]
    }
   ],
   "source": [
    "df = pd.read_csv('archive/appearances.csv')\n",
    "print(df.head())"
   ]
  },
  {
   "cell_type": "markdown",
   "metadata": {},
   "source": [
    "Vervolgens gaan we de dataframe verkleinen zodat we kunnen kijken hoeveel rode kaarten elke speler heeft. Wat we hiervoor nodig hebben is player_id en red_cards."
   ]
  }
 ],
 "metadata": {
  "kernelspec": {
   "display_name": "Python 3",
   "language": "python",
   "name": "python3"
  },
  "language_info": {
   "codemirror_mode": {
    "name": "ipython",
    "version": 3
   },
   "file_extension": ".py",
   "mimetype": "text/x-python",
   "name": "python",
   "nbconvert_exporter": "python",
   "pygments_lexer": "ipython3",
   "version": "3.11.4"
  },
  "orig_nbformat": 4
 },
 "nbformat": 4,
 "nbformat_minor": 2
}
